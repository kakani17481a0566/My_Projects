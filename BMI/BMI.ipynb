{
 "cells": [
  {
   "cell_type": "code",
   "execution_count": 24,
   "metadata": {},
   "outputs": [
    {
     "name": "stdout",
     "output_type": "stream",
     "text": [
      "Obesity\n"
     ]
    }
   ],
   "source": [
    "weight = float(input(\"Enetr your weight ==>\"))\n",
    "Height =  float(input(\"Enetr your height in ft ==>\"))\n",
    "\n",
    "Height = Height * 0.3048\n",
    "Height\n",
    "BMI = (weight) / (Height * Height)\n",
    "BMI\n",
    "if BMI < 18.5:\n",
    "    print(\"Underweight\")\n",
    "elif 18.5<=BMI<=24.9:\n",
    "    print(\"Normal Weight\")\n",
    "elif 25<= BMI < 29.9:\n",
    "    print(\"Overweight\")\n",
    "elif BMI>= 30:\n",
    "    print(\"Obesity\")"
   ]
  }
 ],
 "metadata": {
  "kernelspec": {
   "display_name": "Python 3",
   "language": "python",
   "name": "python3"
  },
  "language_info": {
   "codemirror_mode": {
    "name": "ipython",
    "version": 3
   },
   "file_extension": ".py",
   "mimetype": "text/x-python",
   "name": "python",
   "nbconvert_exporter": "python",
   "pygments_lexer": "ipython3",
   "version": "3.13.0"
  }
 },
 "nbformat": 4,
 "nbformat_minor": 2
}
