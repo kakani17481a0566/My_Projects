{
 "cells": [
  {
   "cell_type": "code",
   "execution_count": 1,
   "id": "d920dea5-adb3-48ae-a6a0-9c6b101e50c0",
   "metadata": {},
   "outputs": [],
   "source": [
    "import pandas as pd\n",
    "import numpy as np\n",
    "import matplotlib.pyplot as plt"
   ]
  },
  {
   "cell_type": "code",
   "execution_count": 5,
   "id": "cf4ad2c6-6f67-4391-936c-7a10df5cb075",
   "metadata": {},
   "outputs": [],
   "source": [
    "data_load = pd.read_csv('data/district-containment-zones-2020-04-30.csv')"
   ]
  },
  {
   "cell_type": "code",
   "execution_count": 9,
   "id": "d0169bc9-9b69-4ec3-8b65-4c8123a0c3d1",
   "metadata": {},
   "outputs": [
    {
     "data": {
      "text/plain": [
       "Index(['District ID', 'District Name', 'State', 'Classification'], dtype='object')"
      ]
     },
     "execution_count": 9,
     "metadata": {},
     "output_type": "execute_result"
    }
   ],
   "source": [
    "data_load.columns"
   ]
  },
  {
   "attachments": {},
   "cell_type": "markdown",
   "id": "10ad44b4-493b-4e60-82af-054719c7cec5",
   "metadata": {},
   "source": []
  }
 ],
 "metadata": {
  "kernelspec": {
   "display_name": "Python 3 (ipykernel)",
   "language": "python",
   "name": "python3"
  },
  "language_info": {
   "codemirror_mode": {
    "name": "ipython",
    "version": 3
   },
   "file_extension": ".py",
   "mimetype": "text/x-python",
   "name": "python",
   "nbconvert_exporter": "python",
   "pygments_lexer": "ipython3",
   "version": "3.12.7"
  }
 },
 "nbformat": 4,
 "nbformat_minor": 5
}
